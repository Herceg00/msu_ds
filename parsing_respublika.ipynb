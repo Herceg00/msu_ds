{
 "cells": [
  {
   "cell_type": "code",
   "execution_count": 367,
   "metadata": {},
   "outputs": [],
   "source": [
    "import requests\n",
    "from lxml import html as lhtml\n",
    "from tqdm.notebook import tqdm\n",
    "from time import sleep\n",
    "from bs4 import BeautifulSoup\n",
    "from ctypes import c_int\n",
    "from multiprocessing import Pool,Lock,Value"
   ]
  },
  {
   "cell_type": "code",
   "execution_count": 342,
   "metadata": {},
   "outputs": [],
   "source": [
    "with open('authors.txt') as authors:\n",
    "        authors_ids = [int(line.rstrip()) for line in authors]"
   ]
  },
  {
   "cell_type": "code",
   "execution_count": 343,
   "metadata": {},
   "outputs": [],
   "source": [
    "def get_page(url, attempts = 3):\n",
    "    for get in range(attempts):\n",
    "        page = requests.get(url)\n",
    "        if not page.ok:\n",
    "            print(page.status_code, page_i)\n",
    "        else:\n",
    "            return page\n",
    "        time.sleep(1)\n",
    "    print(\"Error in getting {} page\".format(url))"
   ]
  },
  {
   "cell_type": "code",
   "execution_count": 375,
   "metadata": {},
   "outputs": [],
   "source": [
    "urls=[]"
   ]
  },
  {
   "cell_type": "code",
   "execution_count": 376,
   "metadata": {},
   "outputs": [],
   "source": [
    "def get_authors_books(author_id):\n",
    "    #print(author_id)\n",
    "    book_urls=[]\n",
    "    path_for_books = '//div[@class=\"rd-page-listing__two-col_right\"]/div[@class=\"rd-page-listing__products\"]/div[contains(@class,rd-listing-product-item-data-wrap)]/div/a/attribute::href'\n",
    "    path_for_num = '//div[@class=\"rd-page-listing__three-col\"]/div/div/span[@class=\"rd-listing-count__total\"]/text()'\n",
    "    page = get_page('https://www.respublica.ru/authors/{}?page=1'.format(author_id))\n",
    "    tree = lhtml.fromstring(page.text)\n",
    "    urls = tree.xpath(path_for_books)\n",
    "    num_of_items = tree.xpath(path_for_num)\n",
    "    for url in urls:\n",
    "        book_urls.append('https://www.respublica.ru' + url)\n",
    "    num_of_items = int(num_of_items[0].rstrip())\n",
    "    for page_num in range(2,ceil(num_of_items/22)+1):\n",
    "        page = get_page('https://www.respublica.ru/authors/{}?page={}'.format(author_id,page_num))\n",
    "        tree = lhtml.fromstring(page.text)\n",
    "        urls = tree.xpath(path_for_books)\n",
    "        for url in urls:\n",
    "            book_urls.append('https://www.respublica.ru' + url)\n",
    "    return book_urls"
   ]
  },
  {
   "cell_type": "code",
   "execution_count": 378,
   "metadata": {},
   "outputs": [
    {
     "name": "stdout",
     "output_type": "stream",
     "text": [
      "get author number  1\n",
      "get author number  2\n",
      "get author number  3\n",
      "get author number  4\n",
      "get author number  5\n",
      "get author number  6\n",
      "get author number  7\n",
      "get author number  8\n",
      "get author number  9\n",
      "get author number  10\n",
      "get author number  11\n",
      "get author number  12\n",
      "get author number  13\n",
      "get author number  14\n",
      "get author number  15\n",
      "get author number  16\n",
      "get author number  17\n",
      "get author number  18\n",
      "get author number  19\n",
      "get author number  20\n",
      "get author number  21\n",
      "get author number  22\n",
      "get author number  23\n",
      "get author number  24\n",
      "get author number  25\n",
      "get author number  26\n",
      "get author number  27\n",
      "get author number  28\n",
      "get author number  29\n",
      "get author number  30\n",
      "get author number  31\n",
      "get author number  32\n",
      "get author number  33\n",
      "get author number  34\n",
      "get author number  35\n",
      "CPU times: user 114 ms, sys: 98.1 ms, total: 212 ms\n",
      "Wall time: 22.6 s\n"
     ]
    }
   ],
   "source": [
    "%%time\n",
    "lock = Lock()\n",
    "ticker = Value(c_int,0)\n",
    "\n",
    "def logger(author_id):\n",
    "    get_authors_books(author_id)\n",
    "    with lock:\n",
    "        global ticker\n",
    "        ticker.value+=1\n",
    "        print(\"get author number \",ticker.value)\n",
    "        \n",
    "with Pool(10) as pool:\n",
    "    pages = pool.map(logger, authors_ids)\n",
    "pool.join()"
   ]
  },
  {
   "cell_type": "code",
   "execution_count": 371,
   "metadata": {},
   "outputs": [],
   "source": [
    "book_urls = set(book_urls)"
   ]
  },
  {
   "cell_type": "code",
   "execution_count": 372,
   "metadata": {},
   "outputs": [
    {
     "data": {
      "text/plain": [
       "0"
      ]
     },
     "execution_count": 372,
     "metadata": {},
     "output_type": "execute_result"
    }
   ],
   "source": [
    "len(book_urls)"
   ]
  },
  {
   "cell_type": "code",
   "execution_count": 373,
   "metadata": {},
   "outputs": [],
   "source": [
    "def get_card(url):\n",
    "    card = dict()\n",
    "    page = get_page(url)\n",
    "    soup = BeautifulSoup(page.text, 'html.parser')\n",
    "    # Разделим страницу на три части\n",
    "    left_attrs = soup.find('div',class_='rd-page-product__col-left')\n",
    "    right_attrs = soup.find('div',class_='rd-page-product__col-right')\n",
    "    bottom = soup.find('div',class_=\"rd-page-product__row rd-page-product__desc\")\n",
    "    card['ID'] = left_attrs.find('span',itemprop = \"sku\").text\n",
    "    card['Цена'] = int(right_attrs.find('span',class_='num').text)\n",
    "    card['Название'] = left_attrs.find('h1',itemprop = \"name\").text\n",
    "    card['URL'] = url\n",
    "    preview = left_attrs.find('a',class_ = \"download-pdf\")\n",
    "    if preview is not None:\n",
    "        card['Превью'] = 'https://www.respublica.ru' + preview.attrs['href']\n",
    "    card['Изображение'] = 'https://www.respublica.ru' + \\\n",
    "        left_attrs.find('img',class_=\"rd-page-product__img\").attrs['src']\n",
    "    card['Автор'] = left_attrs.find('a',itemprop = \"brand\").text\n",
    "    a = soup.find_all('span',class_=\"rd-page-breadcrumbs-item\")\n",
    "    a = [e.text for e in soup.find_all('span',class_=\"rd-page-breadcrumbs-item\")]\n",
    "    card['Категория'] = '; '.join([item[1:] for item in a])\n",
    "    rating_info = right_attrs.find('span', itemprop = \"aggregateRating\")\n",
    "    if rating_info is not None:\n",
    "        card['Количество отзывов'] = int(rating_info.find('meta',itemprop = \"reviewCount\").attrs['content'])\n",
    "        card['Количество оценок'] = int(rating_info.find('meta',itemprop = \"ratingCount\").attrs['content'])\n",
    "        card['Оценка'] = float(rating_info.find('meta',itemprop = \"ratingValue\").attrs['content'])\n",
    "    else:\n",
    "        card['Количество отзывов'] = 0\n",
    "        card['Количество оценок'] = 0\n",
    "        card['Оценка'] = 0\n",
    "    old_price = right_attrs.find('div',class_=\"rd-page-product__price-old\")\n",
    "    if old_price is not None:\n",
    "        card['Цена(старая)'] = int(old_price.find_next('span',class_=\"prev\").text[:-5])\n",
    "    button_text = right_attrs.find('span',class_=\"rd-page-product__buy-text\").text\n",
    "    if button_text == \"Купить\" or button_text == \"Купить со скидкой\":\n",
    "        card['Наличие'] = True\n",
    "    else:\n",
    "        card['Наличие'] = False\n",
    "    description = bottom.find('div',class_=\"rd-page-product__col-left\")\n",
    "    text_tag = description.find('p')\n",
    "    if text_tag is not None:\n",
    "        card['Описание'] = text_tag.text\n",
    "    else:\n",
    "        card['Описание'] = text_tag = description.find('div', itemprop = \"description\").text    \n",
    "    table = bottom.find('div',class_=\"rd-page-product__desc-params\")\n",
    "    rows = table.find_all('p',class_=\"rd-page-product__desc-param\")\n",
    "    for row in rows:\n",
    "        name = row.find('span',itemprop=\"name\").text\n",
    "        non_url_value = row.find('span',itemprop=\"value\")\n",
    "        if non_url_value is None:\n",
    "            card[name] = row.find('a',itemprop=\"value\").text\n",
    "        else:\n",
    "            card[name] = non_url_value.text\n",
    "    return card"
   ]
  },
  {
   "cell_type": "code",
   "execution_count": null,
   "metadata": {},
   "outputs": [],
   "source": []
  },
  {
   "cell_type": "code",
   "execution_count": null,
   "metadata": {},
   "outputs": [],
   "source": []
  },
  {
   "cell_type": "code",
   "execution_count": 340,
   "metadata": {},
   "outputs": [
    {
     "data": {
      "text/plain": [
       "{'ID': '532807',\n",
       " 'Цена': 520,\n",
       " 'Название': 'Пышечка',\n",
       " 'URL': 'https://www.respublica.ru/knigi/hudozhestvennaya-literatura/sovremennaya-proza/532807-myorfi-d-pyshechka-m-o',\n",
       " 'Изображение': 'https://www.respublica.ru/uploads/01/00/00/dq/bv/large_996ef85554b87d57.jpg',\n",
       " 'Автор': 'Джули Мёрфи',\n",
       " 'Категория': 'Книги; Художественная литература; Современная проза',\n",
       " 'Количество отзывов': 0,\n",
       " 'Количество оценок': 0,\n",
       " 'Оценка': 0,\n",
       " 'Наличие': True,\n",
       " 'Описание': '\"Эта книга вдохновляет. Вместо того чтобы дарить детям комплексы, подарите им эту книгу. Пусть она, а не модели Victoria\\'s Secret будут для них примером\". - THE GUARDIAN',\n",
       " 'ISBN': '978-5-6042196-4-5',\n",
       " 'Издательство': 'Popcorn Books',\n",
       " 'Обложка': 'Мягкая',\n",
       " 'Формат': '14 х 21',\n",
       " 'Количество страниц': '456',\n",
       " 'Год издания': '2019',\n",
       " 'Язык': 'Русский',\n",
       " 'Вес, г': '464',\n",
       " 'Раздел': 'Зарубежные',\n",
       " 'Вид бумаги': 'Офсетная'}"
      ]
     },
     "execution_count": 340,
     "metadata": {},
     "output_type": "execute_result"
    }
   ],
   "source": [
    "get_card('https://www.respublica.ru/knigi/hudozhestvennaya-literatura/sovremennaya-proza/532807-myorfi-d-pyshechka-m-o')"
   ]
  },
  {
   "cell_type": "code",
   "execution_count": null,
   "metadata": {},
   "outputs": [],
   "source": []
  }
 ],
 "metadata": {
  "kernelspec": {
   "display_name": "Python 3",
   "language": "python",
   "name": "python3"
  },
  "language_info": {
   "codemirror_mode": {
    "name": "ipython",
    "version": 3
   },
   "file_extension": ".py",
   "mimetype": "text/x-python",
   "name": "python",
   "nbconvert_exporter": "python",
   "pygments_lexer": "ipython3",
   "version": "3.7.6"
  }
 },
 "nbformat": 4,
 "nbformat_minor": 4
}
